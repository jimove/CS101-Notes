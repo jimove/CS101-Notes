{
 "cells": [
  {
   "cell_type": "markdown",
   "metadata": {},
   "source": [
    "# CS 101 课程目录  \n",
    "------------  \n",
    "- Python部分\n",
    "    - [lec6  Files](Files.ipynb)  \n",
    "    - lec7  \n",
    "    - [lec20 Sym-Algebra](Sym-Algebra.ipynb)  \n",
    "    - [lec21 Sym-Calculus](Sym-Calculus.ipynb)\n"
   ]
  }
 ],
 "metadata": {
  "kernelspec": {
   "display_name": "Python 3",
   "language": "python",
   "name": "python3"
  },
  "language_info": {
   "codemirror_mode": {
    "name": "ipython",
    "version": 3
   },
   "file_extension": ".py",
   "mimetype": "text/x-python",
   "name": "python",
   "nbconvert_exporter": "python",
   "pygments_lexer": "ipython3",
   "version": "3.7.1"
  }
 },
 "nbformat": 4,
 "nbformat_minor": 2
}
